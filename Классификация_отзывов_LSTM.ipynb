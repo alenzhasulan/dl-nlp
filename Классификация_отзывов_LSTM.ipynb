{
  "nbformat": 4,
  "nbformat_minor": 0,
  "metadata": {
    "colab": {
      "name": "Классификация отзывов LSTM.ipynb",
      "provenance": [],
      "collapsed_sections": [],
      "toc_visible": true,
      "authorship_tag": "ABX9TyNxwsP93E7+kI7bVuQgXone",
      "include_colab_link": true
    },
    "kernelspec": {
      "name": "python3",
      "display_name": "Python 3"
    }
  },
  "cells": [
    {
      "cell_type": "markdown",
      "metadata": {
        "id": "view-in-github",
        "colab_type": "text"
      },
      "source": [
        "<a href=\"https://colab.research.google.com/github/alenzhasulan/dl-nlp/blob/master/%D0%9A%D0%BB%D0%B0%D1%81%D1%81%D0%B8%D1%84%D0%B8%D0%BA%D0%B0%D1%86%D0%B8%D1%8F_%D0%BE%D1%82%D0%B7%D1%8B%D0%B2%D0%BE%D0%B2_LSTM.ipynb\" target=\"_parent\"><img src=\"https://colab.research.google.com/assets/colab-badge.svg\" alt=\"Open In Colab\"/></a>"
      ]
    },
    {
      "cell_type": "markdown",
      "metadata": {
        "id": "s-4opIjrCc-K",
        "colab_type": "text"
      },
      "source": [
        " # Классификация текстов - LSTM "
      ]
    },
    {
      "cell_type": "code",
      "metadata": {
        "id": "vOsO0X3_HhVn",
        "colab_type": "code",
        "colab": {}
      },
      "source": [
        "import random\n",
        "import pandas as pd\n",
        "\n",
        "from sklearn.model_selection import train_test_split\n",
        "from sklearn.preprocessing import LabelEncoder\n",
        "from keras.utils import np_utils\n",
        "from keras.preprocessing.text import Tokenizer\n",
        "from keras.preprocessing.sequence import pad_sequences\n",
        "from keras.models import Sequential\n",
        "from keras.layers import Embedding, LSTM, Dense, Dropout\n",
        "\n",
        "import matplotlib.pyplot as plt\n",
        "%matplotlib inline\n",
        "\n",
        "import itertools  "
      ],
      "execution_count": null,
      "outputs": []
    },
    {
      "cell_type": "markdown",
      "metadata": {
        "id": "fG_Shop-Cv6t",
        "colab_type": "text"
      },
      "source": [
        "**Загрузка и просмотр данных**"
      ]
    },
    {
      "cell_type": "code",
      "metadata": {
        "id": "oJc-MPj0Ke54",
        "colab_type": "code",
        "colab": {
          "base_uri": "https://localhost:8080/",
          "height": 289
        },
        "outputId": "2b989f42-38d3-4f38-94e1-ce2ccd36d025"
      },
      "source": [
        "reviews = pd.read_excel('reviews.xlsx',header=0,converters={'review_subtitle':str,'review_text':str}, na_filter=False)\n",
        "reviews.head()"
      ],
      "execution_count": null,
      "outputs": [
        {
          "output_type": "execute_result",
          "data": {
            "text/html": [
              "<div>\n",
              "<style scoped>\n",
              "    .dataframe tbody tr th:only-of-type {\n",
              "        vertical-align: middle;\n",
              "    }\n",
              "\n",
              "    .dataframe tbody tr th {\n",
              "        vertical-align: top;\n",
              "    }\n",
              "\n",
              "    .dataframe thead th {\n",
              "        text-align: right;\n",
              "    }\n",
              "</style>\n",
              "<table border=\"1\" class=\"dataframe\">\n",
              "  <thead>\n",
              "    <tr style=\"text-align: right;\">\n",
              "      <th></th>\n",
              "      <th>target</th>\n",
              "      <th>movie_link</th>\n",
              "      <th>author_id</th>\n",
              "      <th>author_name</th>\n",
              "      <th>review_subtitle</th>\n",
              "      <th>review_text</th>\n",
              "    </tr>\n",
              "  </thead>\n",
              "  <tbody>\n",
              "    <tr>\n",
              "      <th>0</th>\n",
              "      <td>good</td>\n",
              "      <td>/film/178563/</td>\n",
              "      <td>/user/311869/</td>\n",
              "      <td>sochi2014</td>\n",
              "      <td></td>\n",
              "      <td>Настоящее кино. Наше кино. Прекрасная работа с...</td>\n",
              "    </tr>\n",
              "    <tr>\n",
              "      <th>1</th>\n",
              "      <td>good</td>\n",
              "      <td>/film/178563/</td>\n",
              "      <td>/user/1591566/</td>\n",
              "      <td>Альберт Попов</td>\n",
              "      <td>Предтеча многого</td>\n",
              "      <td>Мало того, что сериал «Империя под ударом» (12...</td>\n",
              "    </tr>\n",
              "    <tr>\n",
              "      <th>2</th>\n",
              "      <td>good</td>\n",
              "      <td>/film/178563/</td>\n",
              "      <td>/user/331395/</td>\n",
              "      <td>LennoxL</td>\n",
              "      <td>Срез жизни общества начала 20 го века</td>\n",
              "      <td>Период от реформ Александра Освободителя до пе...</td>\n",
              "    </tr>\n",
              "    <tr>\n",
              "      <th>3</th>\n",
              "      <td>good</td>\n",
              "      <td>/film/178563/</td>\n",
              "      <td>/user/4379604/</td>\n",
              "      <td>Ana_K</td>\n",
              "      <td>Пусть мир погибнет, но восторжествует правосудие</td>\n",
              "      <td>Атмосферный сериал о Российской Империи начала...</td>\n",
              "    </tr>\n",
              "    <tr>\n",
              "      <th>4</th>\n",
              "      <td>neutral</td>\n",
              "      <td>/film/178563/</td>\n",
              "      <td>/user/178788/</td>\n",
              "      <td>Skept</td>\n",
              "      <td>Террор  Зло с непредсказуемыми последствиями</td>\n",
              "      <td>Самая большая беда современного общества это т...</td>\n",
              "    </tr>\n",
              "  </tbody>\n",
              "</table>\n",
              "</div>"
            ],
            "text/plain": [
              "    target  ...                                        review_text\n",
              "0     good  ...  Настоящее кино. Наше кино. Прекрасная работа с...\n",
              "1     good  ...  Мало того, что сериал «Империя под ударом» (12...\n",
              "2     good  ...  Период от реформ Александра Освободителя до пе...\n",
              "3     good  ...  Атмосферный сериал о Российской Империи начала...\n",
              "4  neutral  ...  Самая большая беда современного общества это т...\n",
              "\n",
              "[5 rows x 6 columns]"
            ]
          },
          "metadata": {
            "tags": []
          },
          "execution_count": 4
        }
      ]
    },
    {
      "cell_type": "code",
      "metadata": {
        "id": "TY20NbW9Ki57",
        "colab_type": "code",
        "colab": {
          "base_uri": "https://localhost:8080/",
          "height": 414
        },
        "outputId": "a926d73a-37f0-4787-f5f2-1bf161ca47d8"
      },
      "source": [
        "fig = plt.figure(figsize=(8,6))\n",
        "reviews.groupby('target').target.count().plot.bar(ylim=0)\n",
        "plt.show()"
      ],
      "execution_count": null,
      "outputs": [
        {
          "output_type": "display_data",
          "data": {
            "image/png": "[encoded data removed]",
            "text/plain": [
              "<Figure size 576x432 with 1 Axes>"
            ]
          },
          "metadata": {
            "tags": [],
            "needs_background": "light"
          }
        }
      ]
    },
    {
      "cell_type": "markdown",
      "metadata": {
        "id": "RNjLDY1pDAfL",
        "colab_type": "text"
      },
      "source": [
        "**Предобработка текстов**"
      ]
    },
    {
      "cell_type": "code",
      "metadata": {
        "id": "CijdPGcYKlQa",
        "colab_type": "code",
        "colab": {
          "base_uri": "https://localhost:8080/",
          "height": 156
        },
        "outputId": "ca0c0d5d-6f65-4148-e2c6-a05f1f2fa762"
      },
      "source": [
        "reviews['review']=reviews['review_subtitle']+' '+reviews['review_text'] # обьеднием две столбцы в один столбец\n",
        "reviews['target'] = reviews['target'].factorize()[0] # заменяем метку в цифру {good:0, neutral:1, bad:2 }\n",
        "\n",
        "print(reviews['review'][0])\n",
        "print()\n",
        "print('Метка :', reviews['target'][0])"
      ],
      "execution_count": null,
      "outputs": [
        {
          "output_type": "stream",
          "text": [
            " Настоящее кино. Наше кино. Прекрасная работа сценариста, режиссёра, операторов. Профессиональный монтаж, музыкальное сопровождение. Превосходная игра актёров.\n",
            "\r\n",
            "Работа с таким тонким материалом, как история, требует мастерства и подлинного таланта. Это не фантазия и нахлынувшее воображение, а факты, подлинная история, с которой нельзя не считаться. Прочувственно то неспокойное время. Фильм не отвергает прошлое, как делают в некоторых картин, не старается выкрасить в чёрные цвета действующих лиц. \n",
            "\r\n",
            "Фильм всего лишь повествует о людях, об идеях, о любви. Повествует о стране, которая очень сильно изменилась, но по-прежнему существует. Хочется вериться, что никакие идеи и люди, которые борются за эти идеи, не пойдут по проторённой дороге. Уроки должны быть выучены, особенно уроки истории.\n",
            "\n",
            "Метка : 0\n"
          ],
          "name": "stdout"
        }
      ]
    },
    {
      "cell_type": "code",
      "metadata": {
        "id": "uaqIBKx9iM59",
        "colab_type": "code",
        "colab": {}
      },
      "source": [
        "X, Y = (reviews['review'].values, reviews['target'].values)\n",
        "\n",
        "#Label to Vector\n",
        "encoder = LabelEncoder()\n",
        "encoder.fit(Y)\n",
        "encoded_Y = encoder.transform(Y)\n",
        "\n",
        "y = np_utils.to_categorical(encoded_Y)"
      ],
      "execution_count": null,
      "outputs": []
    },
    {
      "cell_type": "markdown",
      "metadata": {
        "id": "et8VsudED1C3",
        "colab_type": "text"
      },
      "source": [
        "**Токенизация**\n"
      ]
    },
    {
      "cell_type": "markdown",
      "metadata": {
        "id": "WnqogNqHzjFq",
        "colab_type": "text"
      },
      "source": [
        "Создаем токенизатор Keras"
      ]
    },
    {
      "cell_type": "code",
      "metadata": {
        "id": "JWjTdwJezv_e",
        "colab_type": "code",
        "colab": {
          "base_uri": "https://localhost:8080/",
          "height": 139
        },
        "outputId": "8c271e73-7cbb-44e1-deec-0b9c5dc72200"
      },
      "source": [
        "X[:5]"
      ],
      "execution_count": null,
      "outputs": [
        {
          "output_type": "execute_result",
          "data": {
            "text/plain": [
              "array([' Настоящее кино. Наше кино. Прекрасная работа сценариста, режиссёра, операторов. Профессиональный монтаж, музыкальное сопровождение. Превосходная игра актёров.\\n\\r\\nРабота с\\xa0таким тонким материалом, как\\xa0история, требует мастерства и\\xa0подлинного таланта. Это\\xa0не фантазия и\\xa0нахлынувшее воображение, а\\xa0факты, подлинная история, с\\xa0которой нельзя не\\xa0считаться. Прочувственно то\\xa0неспокойное время. Фильм не\\xa0отвергает прошлое, как\\xa0делают в\\xa0некоторых картин, не\\xa0старается выкрасить в\\xa0чёрные цвета действующих лиц. \\n\\r\\nФильм всего лишь повествует о\\xa0людях, об\\xa0идеях, о\\xa0любви. Повествует о\\xa0стране, которая очень сильно изменилась, но\\xa0по-прежнему существует. Хочется вериться, что\\xa0никакие идеи и\\xa0люди, которые борются за\\xa0эти идеи, не\\xa0пойдут по\\xa0проторённой дороге. Уроки должны быть выучены, особенно уроки истории.',\n",
              "       'Предтеча многого\\x85 Мало того, что\\xa0сериал «Империя под\\xa0ударом» (12 серий по\\xa045-50 мин., по\\xa0«делу» на\\xa0серию») сам\\xa0по себе, на\\xa0удивление, хорош и\\xa0серьёзен, особенно памятуя то\\xa0непростое время смены столетий и\\xa0власти в\\xa0России (ушёл Ельцин, пришёл Путин, уходили бандитские 90-е, восстанавливался, как\\xa0мог, законопорядок), так\\xa0он ещё и, вскоре став культовым, послужил предтечей многих последующих телесериальных работ. Но\\xa0главное- он, наряду с\\xa0некоторыми другими лентами, дал\\xa0нам понять, что\\xa0в современной России, при\\xa0желании, терпении, старании и\\xa0соответственном финансовом вливании, можно и\\xa0нужно создавать не\\xa0многосерийную мишуру, а\\xa0вполне настоящее, только «длинное» Кино для\\xa0телезрителей. Которое хочется пересматривать ещё и\\xa0ещё и\\xa0которое даёт пищу и\\xa0для эмоций, и\\xa0для души, и\\xa0для ума. Особое же\\xa0спасибо нашей «Империи\\x85» за\\xa0привлечение зрительского внимания к\\xa0российской истории 19-20-го веков (и к\\xa0самой тамошней жизни, почему мы\\xa0уже более 15\\xa0лет с\\xa0удовольствием смотрим и\\xa0детективы, и\\xa0мелодрамы «из той\\xa0поры»), о\\xa0которой, оказывается, мы\\xa0так мало знаем, да\\xa0и то\\xa0в однобоко-коммунистической трактовке советских учебников. Теперь же\\xa0нам демократично предоставляют возможность взглянуть на\\xa0события и\\xa0факты с\\xa0другой стороны, слова (ударение на\\xa0«о») которой не\\xa0предоставляли почти 70\\xa0лет после Великой Октябрьской социалистической революции (Кстати, в\\xa02017-м году этому судьбоносному для\\xa0нашей страны событию исполняется 100\\xa0лет!!! Отличный повод Объективно (!) осветить его\\xa0значение и\\xa0последствия на\\xa0теле- и\\xa0киноэкранах!). Но\\xa0нам этого мало, потому и\\xa0я, и\\xa0другие заинтригованные зрители, посмотрев очередной «исторический» сериал или\\xa0фильм (даже о\\xa0«Руси Изначальной»), начинаем лихорадочно рыскать в\\xa0книгах, Википедии и\\xa0т. д.\\xa0в\\xa0стремлении к\\xa0Истине, по\\xa0пути к\\xa0ней обогащая себя новыми знаниями и\\xa0обнаруживая ошибки и\\xa0неточности в\\xa0увиденном. И\\xa0это просто здорово! Ведь Искусство, помимо всего прочего, ещё и\\xa0побуждает человека к\\xa0Поиску, иногда даже самого себя\\x85\\n\\r\\n\\x85 Ого, сколько я\\xa0тут наваял разной «философии»! Давно пора перейти к\\xa0конкретике. Начну, с\\xa0вашего позволения. Как\\xa0мне уверенно думается, суперидея «Империи под\\xa0ударом» состоит в\\xa0том, что, не\\xa0будь российское имперское (в том\\xa0числе сыскное) начальство столь по-русски беспечным, порой даже благодушным (\"ну кому я\\xa0что сделал, чтобы меня взрывать?»), многие из\\xa0него остались бы\\xa0как минимум живы (другой вопрос- заслужили ли\\xa0они смерть своими деяниями или\\xa0нет?), а\\xa0как максимум- сохранилось бы\\xa0спокойствие в\\xa0обществе, которое в\\xa0начале прошлого века стремительно эволюционировало в\\xa0сторону демократизации и\\xa0«приемлемого капитализма». Увы, жестких прагматиков вроде начальника Особого отдела «Охранки» (сиречь жандармерии) Путиловского властители либо слушали вполуха, либо вообще игнорировали\\x85 и\\xa0погибали под\\xa0эсеровскими бомбами и\\xa0пулями. Редкие из\\xa0них смогли сказать сыщику: «А ведь вы\\xa0были правы\\x85» Тому же, но\\xa0через «шпионства», посвящён и\\xa0последующий, также масштабный и\\xa0суровый сериал «Гибель Империи» (2005), и\\xa0уж совсем рядом стоит только что\\xa0просмотренная мною (с рецензией) «Секретная служба Его\\xa0Величества» (2006), которую рекомендую посмотреть вслед за\\xa0«Империей\\x85», а\\xa0потом уже\\xa0и «Гибель\\x85»- по\\xa0хронологии событий! А\\xa0теперь обратим внимание на\\xa0врагов. В\\xa0«Гибели\\x85» и\\xa0в «Секретной службе\\x85» бьются царская «охранка» в\\xa0разных видах с\\xa0одной стороны, с\\xa0другой- боевая организация партии эсеров (кто не\\xa0знает- партии социалистов-революционеров), а\\xa0потом и\\xa0«отколовшиеся» эсеры-максималисты, все\\xa0они убеждённые террористы, бомбисты и\\xa0«стреляльщики». По\\xa0большому счёту, враги достойны друг друга: «царские» глупцы да\\xa0ротозеи, за\\xa0исключением отдельных «светлых голов» вроде Путиловского или\\xa0дуэта Извеков-Кулебако из\\xa0«Секретной службы\\x85» против придурочных, наивных, но\\xa0фанатично преданных делу «р-революции» и\\xa0террору как\\xa0пути её достижения «эсеровских» русских ребят, разночинцев да\\xa0студентов, а\\xa0так же\\xa0довольно многочисленной группы евреев (главная причина их\\xa0озлобления на\\xa0царизм- см.\\xa0«Черта осёдлости»), среди которых тоже были «суперидейные» вроде Доры Бриллиант, а\\xa0были и\\xa0суперхитрецы «и нашим, и\\xa0вашим, но\\xa0за деньги», вроде легендарного и\\xa0исторического Азефа. Ещё более легендарная, особо стоящая фигура, эсер-боевик Борис Савинков- тоже тут, но\\xa0о нём лучше читать (его мемуары) или\\xa0смотреть (\"Исчадье ада» (1991); «Всадник по\\xa0имени Смерть» (2004)). Вот\\xa0такая вот\\xa0война, с\\xa0переменным успехом, ожидает вас\\xa0в «Империи под\\xa0ударом», и\\xa0от неё не\\xa0оторвёшься! Особенно если учесть, какие прекрасные актёры в\\xa0ней задействованы, даже в\\xa0скромных эпизодах- Игорь Ливанов (Путиловский), Никоненко, Пороховщиков, Серебряков, Хабенский, Домогаров\\x85 Да, ещё отвечу «предыдущему оратору» на\\xa0«непотребное» состояние реквизита: и\\xa0тогда не\\xa0всё было новеньким, с\\xa0иголочки! Вещи, знаете ли, носились и\\xa0изнашивались, даже телефоны или\\xa0же саквояжи, поскольку ими\\xa0Пользовались! Зато здесь мы\\xa0видим Свежие номера газет (а не\\xa0пожелтевшие, как\\xa0в сериале «Пепел») и\\xa0ношеные мундиры (а не\\xa0только что\\xa0пошитые гимнастёрки из\\xa0«Последний бой\\xa0майора Пугачёва»)! Да, забыл задать последний, отнюдь не\\xa0риторический вопрос для\\xa0размышления: за\\xa0последнее время кто-нибудь слышал хоть об\\xa0одном еврее-террористе? Думается, и\\xa0не услышите! А\\xa0почему? Так-то!\\n\\r\\n8 из\\xa010',\n",
              "       'Срез жизни общества начала 20\\xa0го века Период от\\xa0реформ Александра Освободителя до\\xa0первой русской революцией и\\xa0вправду был\\xa0эпохой индивидуального террора революционеров, в\\xa0учебниках истории как\\xa0правило упоминаются покушения на\\xa0Александра II, одно закончилось удачно и\\xa0брат Ленина в\\xa0связи с\\xa0покушением на\\xa0Александра III, за\\xa0что его\\xa0и повесили. А\\xa0вот террор против должностных лиц\\xa0империи сводится к\\xa0примеру Веры Засулич, стрелявшей в\\xa0Трепова, а\\xa0иные жертвы и\\xa0революционеры не\\xa0так известны. Но\\xa0имена их\\xa0живут в\\xa0названиях улиц городов\\xa0\\x97\\xa0Каляева, Созонова, и\\xa0редко кто\\xa0доподлинно знают, что\\xa0они сделали. В\\xa0«Империи под\\xa0ударом» именно про\\xa0подзабытых революционерах идет речь, ну\\xa0и конечно про\\xa0руководителей боевой организации эсеров, которых невозможно не\\xa0помнить\\xa0\\x97\\xa0Азефе, Гершуни, Савинкове. Противостоят им\\xa0сотрудники петербургского охранного отделения\\xa0\\x97\\xa0Путиловский, Берг, Медянников (личности выдуманные), но\\xa0достаточно хорошо показывающие каждодневную работу группы по\\xa0борьбе с\\xa0террористами. Мне\\xa0лично сериал понравился своей непредвзятостью по\\xa0отношению сторон, у\\xa0каждого была показана своя правда, за\\xa0которую они\\xa0боролись и\\xa0умирали. Образы сотрудников охранного отделения, эсеров, бомбистов, сановников и\\xa0простых горожан показаны максимально приближенными к\\xa0обычным людям, может за\\xa0это и\\xa0стал мне\\xa0данный сериал близок. \\n\\r\\nСнято также очень увлекательно, события развиваются интересно для\\xa0зрителя, мы\\xa0становимся участниками каждого дела группы Путиловского, можем сопереживать ему\\xa0или эсерам, но\\xa0никак нельзя сказать, что\\xa0кино получилось не\\xa0динамичным. По\\xa0части сюжетной линии вопросов нет. Неплохо воссоздана атмосфера начала 20\\xa0го века, и\\xa0в быту, и\\xa0в общественном сознании. Некоторые серии погружают в\\xa0жизнь обывателей, какие то\\xa0в салонную жизнь столиц, но\\xa0общее впечатление от\\xa0того, что\\xa0веришь происходящему на\\xa0экране не\\xa0утрачивается. И\\xa0главное\\xa0\\x97\\xa0исторические фигуры ставшие жертвами и\\xa0убийцами, это\\xa0ожившие книжные строки, мы\\xa0как будто следуем за\\xa0Балмашовым на\\xa0встречу с\\xa0Сипягиным, который выговаривает ему\\xa0за форму одежды офицера, идем по\\xa0набережной за\\xa0Егором Созоновым с\\xa0бомбой для\\xa0Плеве или\\xa0не видим раскаяния в\\xa0Иване Каляеве после убийства Великого князя, вместе с\\xa0Джунковским сбегаем от\\xa0охраны и\\xa0выносим приговор на\\xa0партийном суде Азефу\\xa0\\x97\\xa0эффект погружения в\\xa0историю полный.\\n\\r\\nНе побоюсь этого слова, но\\xa0актеры сыграли в\\xa0сериале отлично\\xa0\\x97\\xa0Игорь Ливанов (Путиловский), Алексей Серебряков (Савинков), Валентин Букин (Медянников), Александр Домогаров (Гапон), Николай Чиндяйкин (Рачковский), Владимир Богданов (Азеф) и\\xa0многие другие составили ансамбля, который украсил фильм.\\n\\r\\nЕстественно я\\xa0нашел много несоответствий историческим фактам, например, кто\\xa0выдал Азефа и\\xa0как в\\xa0реале выглядел Джунковский (в высшей степени интересная и\\xa0трагическая судьба, офицер гвардии, командир корпуса жандармов, консультант ВЧК\\xa0по созданию сыска), но\\xa0общего восприятия сериала это\\xa0не портит. Могу порекомендовать к\\xa0просмотру.\\n\\n9 из\\xa010',\n",
              "       'Пусть мир\\xa0погибнет, но\\xa0восторжествует правосудие Атмосферный сериал о\\xa0Российской Империи начала ХХ\\xa0века. Некоторые серии очень хороши именно как\\xa0детективные истории (например, «Бастард»), но\\xa0всё же\\xa0сериал в\\xa0первую очередь будет интересен тем, кто\\xa0увлечён историей России. Сериал я\\xa0просмотрела за\\xa0несколько дней, он\\xa0довольно лёгкий и\\xa0не перегружает зрителя ни\\xa0тяжёлой картинкой, ни\\xa0тяжёлыми диалогами; здесь есть ненавязчивая любовная линия и\\xa0присутствует добродушный юмор. \\n\\r\\nОставляют меня в\\xa0недоумении две\\xa0вещи. Прежде всего неполнота исторического контекста: с\\xa0одной стороны многие серии, как\\xa0говорится, основаны на\\xa0реальных событиях и\\xa0претендуют на\\xa0историческую точность повествования, с\\xa0другой\\xa0\\x97\\xa0громадные потрясения, которые невозможно было бы\\xa0не заметить, живя в\\xa0начале ХХ\\xa0века, были просто упущены. Не\\xa0представляю, как\\xa0можно было обойти русско-японскую войну!? Будто её и\\xa0не было. От\\xa0сюда же\\xa0скомканность волнений 1905-1907 годов, ни\\xa0слова ни\\xa0о чём, кроме Кровавого воскресенья. Можно считать или\\xa0не считать те\\xa0события Первой русской революцией, но, упуская их\\xa0вовсе, мы\\xa0не можем почувствовать дух\\xa0эпохи. При\\xa0просмотре нет\\xa0ощущения неустроенности, смуты и\\xa0надвигающейся трагедии.\\n\\r\\nВторя вещь, меня расстроившая\\xa0\\x97\\xa0чёрно-белая сюжетная канва. Хорошие, четные государственные мужи становятся безвинными жертвами экзальтированных, жестоких террористов. По\\xa0моему личному убеждению, у\\xa0террора нет\\xa0и не\\xa0может быть оправдания, но\\xa0я ратую за\\xa0историческую справедливость, ибо\\xa0у всего есть причина и\\xa0следствие. А\\xa0так получилось, что\\xa0эсеры\\xa0\\x97\\xa0всецело порождение иррационального вселенского зла. Можно было бы\\xa0почаще отвечать на\\xa0вопросы жертв террора: «За что\\xa0они меня?» и\\xa0отвечать конкретнее, чем\\xa0«партия приговорила» или\\xa0«он\\xa0\\x97\\xa0сатрап и\\xa0душитель свободы». На\\xa0примере в.\\xa0к. Сергея Александровича, генерал-губернатора Москвы, можно было бы, если не\\xa0оправдать террор, то\\xa0указать на\\xa0его причину. По\\xa0свидетельствам современников, в\\xa0том числе родственников, это\\xa0был очень тяжёлый, иногда невыносимый человек. В\\xa0сериале\\xa0\\x97\\xa0бесстрашный примерный отец семейства. \\n\\r\\nЯ не\\xa0претендую на\\xa0роль режиссёра или\\xa0сценариста, ясно, что\\xa0устранение этих двух недостатков сильно бы\\xa0усложнило сюжет и\\xa0«утяжелило» фильм, а\\xa0так же\\xa0могло отбить у\\xa0части аудитории желание досмотреть до\\xa0конца. События сериала предтеча новой череды печальных и\\xa0губительных для\\xa0России событий.\\n\\r\\nХочется больше поговорить о\\xa0достоинствах сериала, коих предостаточно. \\n\\r\\nВо-первых, мне\\xa0очень понравились «три товарища», три\\xa0центральных героя: начальник особого отдела третьего отделения Путиловский (это отсылка к\\xa0Путилову, конечно, главе сыскной полиции Петербурга), талантливый инженер и\\xa0актёр Берг и\\xa0жандарм старой закалки Медянников. Очень разные персонажи, со\\xa0своими подходами к\\xa0общему делу, НО\\xa0отлично сработавшиеся вместе! Мне\\xa0показалось, что\\xa0создатели сериала знакомы с\\xa0книгами Акунина о\\xa0сыщике Эрасте Фандорине, которые выходили с\\xa01998 года. Павел Нестерович, как\\xa0и Эраст Петрович, работал в\\xa0полиции, потом в\\xa0третьем Отделении, лишился невесты накануне свадьбы, закрутил роман с\\xa0сочувствующей революционерам барышней; Путиловский и\\xa0Фандорин люди твёрдой воли, следующие законам чести. \\n\\r\\nВо-вторых, замечательный актёрский состав. Алексимова, Серебряков, Домогаров, Александрова, Лиепа, Хабенский\\xa0\\x97\\xa0в эпизодических ролях\\xa0\\x97\\xa0наслаждение! По\\xa0поводу Константина Хабенского, интересно, каково это\\xa0\\x97\\xa0побывать по\\xa0обе стороны: играть революционеров-террористов(Грин в\\xa0«Статском советнике») и\\xa0адмирала Колчака(\"Адмирал»)? \\n\\r\\nПонравилась мне\\xa0сюжетная линия с\\xa0«великим провокаторам» Азефом, который, как\\xa0точно подмечено в\\xa0сериале, «работал только на\\xa0себя». Можно ли\\xa0для спасения Отечества пользоваться услугами таких провокаторов? Путиловский стоит на\\xa0том, что\\xa0цель не\\xa0оправдывает средств. Но\\xa0историческая закономерность такова, что\\xa0всегда будут выигрывать те, кто\\xa0не брезгует применять любые методы. \\n\\r\\nВ целом, интересный, лёгкий, приятный для\\xa0просмотра сериал о\\xa0царской России. О\\xa0мире, который погиб, но\\xa0восторжествовало ли\\xa0правосудие?',\n",
              "       'Террор\\xa0\\x97\\xa0Зло с\\xa0непредсказуемыми последствиями\\x85 Самая большая беда современного общества это\\xa0терроризм. Террор\\xa0\\x97\\xa0это бессмысленная, безумная война человека с\\xa0человеком. Те\\xa0кто думает что\\xa0с помощью террора можно добиться реализации каких\\xa0\\x97\\xa0то идей, не\\xa0важно, политических или\\xa0теологических, глубоко ошибается, террор ведёт лишь к\\xa0боли и\\xa0ненависти, а\\xa0также к\\xa0вечному проклятью. И\\xa0не важно через какое время наступает расплата через секунду или\\xa070 лет, она\\xa0неизбежна.\\n\\r\\nХочется выразить благодарность создателям фильма, за\\xa0действительно хорошее кино. Всё продумано, взвешено, реалистично. Фильм вызывает бурю эмоций, заставляет чувствовать, сопереживать. Замечательная игра актёров, увлекательный сюжет, операторская работа\\xa0\\x97\\xa0всё это\\xa0ставит данный фильм на\\xa0очень высокий уровень.\\n\\r\\nНо самое главное, фильм позволяет окончательно очистить сознание людей от\\xa0коммунистической, пропагандистской шелухи и\\xa0взглянуть на\\xa0историю с\\xa0точки зрения трезвого, нормального, цивилизованного человека. Ведь террор, какими бы\\xa0целями и\\xa0идеями он\\xa0не прикрывался:\\xa0\\x97\\xa0суть Зверя, а\\xa0не Человека.'],\n",
              "      dtype=object)"
            ]
          },
          "metadata": {
            "tags": []
          },
          "execution_count": 9
        }
      ]
    },
    {
      "cell_type": "code",
      "metadata": {
        "id": "4nHzxZoWzrCT",
        "colab_type": "code",
        "colab": {}
      },
      "source": [
        "tk = Tokenizer(lower = True)"
      ],
      "execution_count": null,
      "outputs": []
    },
    {
      "cell_type": "markdown",
      "metadata": {
        "id": "hwL0cGpwz4LX",
        "colab_type": "text"
      },
      "source": [
        "Обучаем токенизатор"
      ]
    },
    {
      "cell_type": "code",
      "metadata": {
        "id": "zPE4OSqQz-04",
        "colab_type": "code",
        "colab": {}
      },
      "source": [
        "tk.fit_on_texts(X)"
      ],
      "execution_count": null,
      "outputs": []
    },
    {
      "cell_type": "code",
      "metadata": {
        "id": "lB_HB5sy0HkP",
        "colab_type": "code",
        "colab": {
          "base_uri": "https://localhost:8080/",
          "height": 54
        },
        "outputId": "df2c2f27-9f78-42f5-d16d-7506fccc4a1e"
      },
      "source": [
        "out = dict(itertools.islice(tk.word_counts.items(), 10))\n",
        "print(\"Словарь :\"+str(out))"
      ],
      "execution_count": null,
      "outputs": [
        {
          "output_type": "stream",
          "text": [
            "Словарь :{'настоящее': 1754, 'кино': 35388, 'наше': 1225, 'прекрасная': 1741, 'работа': 8359, 'сценариста': 793, 'режиссёра': 2484, 'операторов': 184, 'профессиональный': 212, 'монтаж': 907}\n"
          ],
          "name": "stdout"
        }
      ]
    },
    {
      "cell_type": "markdown",
      "metadata": {
        "id": "BtDrDnBs0RKY",
        "colab_type": "text"
      },
      "source": [
        "Преобразуем в числовое представление"
      ]
    },
    {
      "cell_type": "code",
      "metadata": {
        "id": "U0rqGF6Qia7N",
        "colab_type": "code",
        "colab": {}
      },
      "source": [
        "X_seq = tk.texts_to_sequences(X)"
      ],
      "execution_count": null,
      "outputs": []
    },
    {
      "cell_type": "markdown",
      "metadata": {
        "id": "rZL8ppHA0dqJ",
        "colab_type": "text"
      },
      "source": [
        "Ограничиваем длину"
      ]
    },
    {
      "cell_type": "code",
      "metadata": {
        "id": "bF1AZ6P20iTJ",
        "colab_type": "code",
        "colab": {}
      },
      "source": [
        "MAX_LEN_SENTENCES=100\n",
        "X_pad = pad_sequences(X_seq, maxlen=MAX_LEN_SENTENCES, padding='post')"
      ],
      "execution_count": null,
      "outputs": []
    },
    {
      "cell_type": "code",
      "metadata": {
        "id": "i2wVhbejIIpp",
        "colab_type": "code",
        "colab": {
          "base_uri": "https://localhost:8080/",
          "height": 292
        },
        "outputId": "fa517d89-33e9-4c50-d1eb-1dd5f437f180"
      },
      "source": [
        "index = 1\n",
        "print(X[index])\n",
        "print(X_pad[index])"
      ],
      "execution_count": null,
      "outputs": [
        {
          "output_type": "stream",
          "text": [
            "Предтеча многого Мало того, что сериал «Империя под ударом» (12 серий по 45-50 мин., по «делу» на серию») сам по себе, на удивление, хорош и серьёзен, особенно памятуя то непростое время смены столетий и власти в России (ушёл Ельцин, пришёл Путин, уходили бандитские 90-е, восстанавливался, как мог, законопорядок), так он ещё и, вскоре став культовым, послужил предтечей многих последующих телесериальных работ. Но главное- он, наряду с некоторыми другими лентами, дал нам понять, что в современной России, при желании, терпении, старании и соответственном финансовом вливании, можно и нужно создавать не многосерийную мишуру, а вполне настоящее, только «длинное» Кино для телезрителей. Которое хочется пересматривать ещё и ещё и которое даёт пищу и для эмоций, и для души, и для ума. Особое же спасибо нашей «Империи» за привлечение зрительского внимания к российской истории 19-20-го веков (и к самой тамошней жизни, почему мы уже более 15 лет с удовольствием смотрим и детективы, и мелодрамы «из той поры»), о которой, оказывается, мы так мало знаем, да и то в однобоко-коммунистической трактовке советских учебников. Теперь же нам демократично предоставляют возможность взглянуть на события и факты с другой стороны, слова (ударение на «о») которой не предоставляли почти 70 лет после Великой Октябрьской социалистической революции (Кстати, в 2017-м году этому судьбоносному для нашей страны событию исполняется 100 лет!!! Отличный повод Объективно (!) осветить его значение и последствия на теле- и киноэкранах!). Но нам этого мало, потому и я, и другие заинтригованные зрители, посмотрев очередной «исторический» сериал или фильм (даже о «Руси Изначальной»), начинаем лихорадочно рыскать в книгах, Википедии и т. д. в стремлении к Истине, по пути к ней обогащая себя новыми знаниями и обнаруживая ошибки и неточности в увиденном. И это просто здорово! Ведь Искусство, помимо всего прочего, ещё и побуждает человека к Поиску, иногда даже самого себя\n",
            "\r\n",
            " Ого, сколько я тут наваял разной «философии»! Давно пора перейти к конкретике. Начну, с вашего позволения. Как мне уверенно думается, суперидея «Империи под ударом» состоит в том, что, не будь российское имперское (в том числе сыскное) начальство столь по-русски беспечным, порой даже благодушным (\"ну кому я что сделал, чтобы меня взрывать?»), многие из него остались бы как минимум живы (другой вопрос- заслужили ли они смерть своими деяниями или нет?), а как максимум- сохранилось бы спокойствие в обществе, которое в начале прошлого века стремительно эволюционировало в сторону демократизации и «приемлемого капитализма». Увы, жестких прагматиков вроде начальника Особого отдела «Охранки» (сиречь жандармерии) Путиловского властители либо слушали вполуха, либо вообще игнорировали и погибали под эсеровскими бомбами и пулями. Редкие из них смогли сказать сыщику: «А ведь вы были правы» Тому же, но через «шпионства», посвящён и последующий, также масштабный и суровый сериал «Гибель Империи» (2005), и уж совсем рядом стоит только что просмотренная мною (с рецензией) «Секретная служба Его Величества» (2006), которую рекомендую посмотреть вслед за «Империей», а потом уже и «Гибель»- по хронологии событий! А теперь обратим внимание на врагов. В «Гибели» и в «Секретной службе» бьются царская «охранка» в разных видах с одной стороны, с другой- боевая организация партии эсеров (кто не знает- партии социалистов-революционеров), а потом и «отколовшиеся» эсеры-максималисты, все они убеждённые террористы, бомбисты и «стреляльщики». По большому счёту, враги достойны друг друга: «царские» глупцы да ротозеи, за исключением отдельных «светлых голов» вроде Путиловского или дуэта Извеков-Кулебако из «Секретной службы» против придурочных, наивных, но фанатично преданных делу «р-революции» и террору как пути её достижения «эсеровских» русских ребят, разночинцев да студентов, а так же довольно многочисленной группы евреев (главная причина их озлобления на царизм- см. «Черта осёдлости»), среди которых тоже были «суперидейные» вроде Доры Бриллиант, а были и суперхитрецы «и нашим, и вашим, но за деньги», вроде легендарного и исторического Азефа. Ещё более легендарная, особо стоящая фигура, эсер-боевик Борис Савинков- тоже тут, но о нём лучше читать (его мемуары) или смотреть (\"Исчадье ада» (1991); «Всадник по имени Смерть» (2004)). Вот такая вот война, с переменным успехом, ожидает вас в «Империи под ударом», и от неё не оторвёшься! Особенно если учесть, какие прекрасные актёры в ней задействованы, даже в скромных эпизодах- Игорь Ливанов (Путиловский), Никоненко, Пороховщиков, Серебряков, Хабенский, Домогаров Да, ещё отвечу «предыдущему оратору» на «непотребное» состояние реквизита: и тогда не всё было новеньким, с иголочки! Вещи, знаете ли, носились и изнашивались, даже телефоны или же саквояжи, поскольку ими Пользовались! Зато здесь мы видим Свежие номера газет (а не пожелтевшие, как в сериале «Пепел») и ношеные мундиры (а не только что пошитые гимнастёрки из «Последний бой майора Пугачёва»)! Да, забыл задать последний, отнюдь не риторический вопрос для размышления: за последнее время кто-нибудь слышал хоть об одном еврее-террористе? Думается, и не услышите! А почему? Так-то!\n",
            "\r\n",
            "8 из 10\n",
            "[ 15759 317311  48163   4388   8453   8286 137728 224064   1389   2126\n",
            " 259609    118     10   4456    330   2414    560    708  11875     12\n",
            " 259610   4960  18896  65719 224070 197122 713276  26010   9064 713277\n",
            "     82     86  18074 713278 713279 713280   2170  93258   2068   4792\n",
            "     14 107665  58884    804   1088    620 177488 713281     12  28773\n",
            "    981 713282    705 713283    621     34    702  22043   6560  32561\n",
            "     83 713284    375   6433 404870 713285 107666     83    130 713286\n",
            " 713287 713288 197123 404871     82   4702  11311   1165   1700 404872\n",
            "    349  14826   6448     35    219    209   4902    129   6692 404873\n",
            " 317312   6862     19  56084   7052     84      3      1    185      6]\n"
          ],
          "name": "stdout"
        }
      ]
    },
    {
      "cell_type": "markdown",
      "metadata": {
        "id": "NRDcqEnqGVcM",
        "colab_type": "text"
      },
      "source": [
        "**Разделение данных на Train и Test**"
      ]
    },
    {
      "cell_type": "code",
      "metadata": {
        "id": "bRuOtKiZi8rl",
        "colab_type": "code",
        "colab": {}
      },
      "source": [
        "X_train, X_test, y_train, y_test = train_test_split(X_pad, y, test_size = 0.2, random_state = 1)"
      ],
      "execution_count": null,
      "outputs": []
    },
    {
      "cell_type": "code",
      "metadata": {
        "id": "41lSdk51jB12",
        "colab_type": "code",
        "colab": {}
      },
      "source": [
        "batch_size = 1024\n",
        "X_train1 = X_train[batch_size:]\n",
        "y_train1 = y_train[batch_size:]\n",
        "X_valid = X_train[:batch_size]\n",
        "y_valid = y_train[:batch_size]"
      ],
      "execution_count": null,
      "outputs": []
    },
    {
      "cell_type": "markdown",
      "metadata": {
        "id": "o6PCi01BGxSw",
        "colab_type": "text"
      },
      "source": [
        "**Построение модели**"
      ]
    },
    {
      "cell_type": "code",
      "metadata": {
        "id": "3_9xOvZfjGkZ",
        "colab_type": "code",
        "colab": {}
      },
      "source": [
        "vocabulary_size = len(tk.word_counts.keys())+1\n",
        "max_words = MAX_LEN_SENTENCES\n",
        "\n",
        "embedding_size = 32\n",
        "model = Sequential()\n",
        "model.add(Embedding(vocabulary_size, embedding_size, input_length=max_words))\n",
        "model.add(Dropout(0.3))\n",
        "model.add(LSTM(200))\n",
        "model.add(Dropout(0.5))\n",
        "model.add(Dense(3, activation='softmax'))\n",
        "model.compile(loss='categorical_crossentropy', optimizer='adam', metrics=['accuracy'])"
      ],
      "execution_count": null,
      "outputs": []
    },
    {
      "cell_type": "code",
      "metadata": {
        "id": "6IRU2P-e3HVz",
        "colab_type": "code",
        "colab": {
          "base_uri": "https://localhost:8080/",
          "height": 323
        },
        "outputId": "ce3f64a9-8b30-4ab4-8083-a415cfee0c15"
      },
      "source": [
        "model.summary()"
      ],
      "execution_count": null,
      "outputs": [
        {
          "output_type": "stream",
          "text": [
            "Model: \"sequential_6\"\n",
            "_________________________________________________________________\n",
            "Layer (type)                 Output Shape              Param #   \n",
            "=================================================================\n",
            "embedding_6 (Embedding)      (None, 100, 32)           42595616  \n",
            "_________________________________________________________________\n",
            "dropout_4 (Dropout)          (None, 100, 32)           0         \n",
            "_________________________________________________________________\n",
            "lstm_6 (LSTM)                (None, 200)               186400    \n",
            "_________________________________________________________________\n",
            "dropout_5 (Dropout)          (None, 200)               0         \n",
            "_________________________________________________________________\n",
            "dense_6 (Dense)              (None, 3)                 603       \n",
            "=================================================================\n",
            "Total params: 42,782,619\n",
            "Trainable params: 42,782,619\n",
            "Non-trainable params: 0\n",
            "_________________________________________________________________\n"
          ],
          "name": "stdout"
        }
      ]
    },
    {
      "cell_type": "markdown",
      "metadata": {
        "id": "HxM-aKBt4-_l",
        "colab_type": "text"
      },
      "source": [
        "Создаем callback для сохранения"
      ]
    },
    {
      "cell_type": "code",
      "metadata": {
        "id": "vRwRY7Oq3jYN",
        "colab_type": "code",
        "colab": {}
      },
      "source": [
        "from tensorflow.keras.callbacks import ModelCheckpoint\n",
        "model_save_path = 'best_model_rnn.h5'\n",
        "checkpoint_callback = ModelCheckpoint(model_save_path, \n",
        "                                      monitor='val_accuracy',\n",
        "                                      save_best_only=True,\n",
        "                                      verbose=1)"
      ],
      "execution_count": null,
      "outputs": []
    },
    {
      "cell_type": "markdown",
      "metadata": {
        "id": "gtYH3o2zGzWN",
        "colab_type": "text"
      },
      "source": [
        "**Обучение**"
      ]
    },
    {
      "cell_type": "code",
      "metadata": {
        "id": "LyE1igLtkcFk",
        "colab_type": "code",
        "colab": {
          "base_uri": "https://localhost:8080/",
          "height": 258
        },
        "outputId": "380f5841-ec7c-4fed-bf83-73b03e03ffb0"
      },
      "source": [
        "class_weight={0:1,1:4.5,2:8.5}\n",
        "history_rnn = model.fit(X_train1,\n",
        "                        y_train1,\n",
        "                        validation_data=(X_valid,y_valid),\n",
        "                        batch_size=batch_size,\n",
        "                        epochs=3,\n",
        "                        class_weight=class_weight,\n",
        "                        callbacks=[checkpoint_callback])"
      ],
      "execution_count": null,
      "outputs": [
        {
          "output_type": "stream",
          "text": [
            "Epoch 1/3\n",
            "62/62 [==============================] - ETA: 0s - loss: 2.3709 - accuracy: 0.5784WARNING:tensorflow:5 out of the last 10 calls to <function Model.make_test_function.<locals>.test_function at 0x7f4fb788b9d8> triggered tf.function retracing. Tracing is expensive and the excessive number of tracings could be due to (1) creating @tf.function repeatedly in a loop, (2) passing tensors with different shapes, (3) passing Python objects instead of tensors. For (1), please define your @tf.function outside of the loop. For (2), @tf.function has experimental_relax_shapes=True option that relaxes argument shapes that can avoid unnecessary retracing. For (3), please refer to https://www.tensorflow.org/tutorials/customization/performance#python_or_tensor_args and https://www.tensorflow.org/api_docs/python/tf/function for  more details.\n",
            "\n",
            "Epoch 00001: val_accuracy improved from -inf to 0.72266, saving model to best_model_rnn.h5\n",
            "62/62 [==============================] - 210s 3s/step - loss: 2.3709 - accuracy: 0.5784 - val_loss: 0.8380 - val_accuracy: 0.7227\n",
            "Epoch 2/3\n",
            "62/62 [==============================] - ETA: 0s - loss: 1.7121 - accuracy: 0.7874\n",
            "Epoch 00002: val_accuracy improved from 0.72266 to 0.75391, saving model to best_model_rnn.h5\n",
            "62/62 [==============================] - 209s 3s/step - loss: 1.7121 - accuracy: 0.7874 - val_loss: 0.6105 - val_accuracy: 0.7539\n",
            "Epoch 3/3\n",
            "62/62 [==============================] - ETA: 0s - loss: 0.6192 - accuracy: 0.9072\n",
            "Epoch 00003: val_accuracy improved from 0.75391 to 0.85840, saving model to best_model_rnn.h5\n",
            "62/62 [==============================] - 212s 3s/step - loss: 0.6192 - accuracy: 0.9072 - val_loss: 0.4267 - val_accuracy: 0.8584\n"
          ],
          "name": "stdout"
        }
      ]
    },
    {
      "cell_type": "code",
      "metadata": {
        "id": "zMDmEMqb97vE",
        "colab_type": "code",
        "colab": {
          "base_uri": "https://localhost:8080/",
          "height": 279
        },
        "outputId": "870e8862-7bf0-4771-e7fd-454ce1b81358"
      },
      "source": [
        "plt.plot(history_rnn.history['accuracy'], \n",
        "         label='Доля верных ответов на обучающем наборе')\n",
        "plt.plot(history_rnn.history['val_accuracy'], \n",
        "         label='Доля верных ответов на проверочном наборе')\n",
        "plt.xlabel('Эпоха обучения')\n",
        "plt.ylabel('Доля верных ответов')\n",
        "plt.legend()\n",
        "plt.show()"
      ],
      "execution_count": null,
      "outputs": [
        {
          "output_type": "display_data",
          "data": {
            "image/png": "[encoded data removed]",
            "text/plain": [
              "<Figure size 432x288 with 1 Axes>"
            ]
          },
          "metadata": {
            "tags": [],
            "needs_background": "light"
          }
        }
      ]
    },
    {
      "cell_type": "markdown",
      "metadata": {
        "id": "ANyLfeeeG5hH",
        "colab_type": "text"
      },
      "source": [
        "**Оценка качества**"
      ]
    },
    {
      "cell_type": "code",
      "metadata": {
        "id": "a0JES2W194zn",
        "colab_type": "code",
        "colab": {}
      },
      "source": [
        "model.load_weights(model_save_path)"
      ],
      "execution_count": null,
      "outputs": []
    },
    {
      "cell_type": "code",
      "metadata": {
        "id": "CuQilSK8-p4W",
        "colab_type": "code",
        "colab": {}
      },
      "source": [
        "from sklearn import metrics"
      ],
      "execution_count": null,
      "outputs": []
    },
    {
      "cell_type": "markdown",
      "metadata": {
        "id": "IHHmNuxyNGJX",
        "colab_type": "text"
      },
      "source": [
        "**Обучающая выборка:**"
      ]
    },
    {
      "cell_type": "code",
      "metadata": {
        "id": "tLoBhkmyNHdI",
        "colab_type": "code",
        "colab": {
          "base_uri": "https://localhost:8080/",
          "height": 258
        },
        "outputId": "fb32cfc3-9014-4b5d-bf85-7d943d4abeff"
      },
      "source": [
        "y_pred_train=model.predict(X_train)\n",
        "y_pred_train = y_pred_train > 0.5\n",
        "print(metrics.classification_report(y_train, y_pred_train, digits=3))"
      ],
      "execution_count": null,
      "outputs": [
        {
          "output_type": "stream",
          "text": [
            "              precision    recall  f1-score   support\n",
            "\n",
            "           0      0.992     0.984     0.988     48140\n",
            "           1      0.957     0.950     0.953     10235\n",
            "           2      0.969     0.978     0.973      5852\n",
            "\n",
            "   micro avg      0.984     0.978     0.981     64227\n",
            "   macro avg      0.972     0.971     0.971     64227\n",
            "weighted avg      0.984     0.978     0.981     64227\n",
            " samples avg      0.978     0.978     0.978     64227\n",
            "\n"
          ],
          "name": "stdout"
        },
        {
          "output_type": "stream",
          "text": [
            "/usr/local/lib/python3.6/dist-packages/sklearn/metrics/_classification.py:1272: UndefinedMetricWarning: Precision and F-score are ill-defined and being set to 0.0 in samples with no predicted labels. Use `zero_division` parameter to control this behavior.\n",
            "  _warn_prf(average, modifier, msg_start, len(result))\n"
          ],
          "name": "stderr"
        }
      ]
    },
    {
      "cell_type": "markdown",
      "metadata": {
        "id": "fFf_XGYmHFSW",
        "colab_type": "text"
      },
      "source": [
        "**Тестовая выборка:**"
      ]
    },
    {
      "cell_type": "code",
      "metadata": {
        "id": "hP-cK3AuAXyv",
        "colab_type": "code",
        "colab": {
          "base_uri": "https://localhost:8080/",
          "height": 258
        },
        "outputId": "b2f7640d-1c57-48c0-fdd6-782bdba6eafc"
      },
      "source": [
        "y_pred_test=model.predict(X_test)\n",
        "y_pred_test = y_pred_test > 0.5\n",
        "print(metrics.classification_report(y_test, y_pred_test, digits=3))"
      ],
      "execution_count": null,
      "outputs": [
        {
          "output_type": "stream",
          "text": [
            "              precision    recall  f1-score   support\n",
            "\n",
            "           0      0.927     0.924     0.925     12049\n",
            "           1      0.638     0.557     0.595      2579\n",
            "           2      0.777     0.724     0.750      1429\n",
            "\n",
            "   micro avg      0.872     0.847     0.860     16057\n",
            "   macro avg      0.781     0.735     0.757     16057\n",
            "weighted avg      0.867     0.847     0.857     16057\n",
            " samples avg      0.847     0.847     0.847     16057\n",
            "\n"
          ],
          "name": "stdout"
        },
        {
          "output_type": "stream",
          "text": [
            "/usr/local/lib/python3.6/dist-packages/sklearn/metrics/_classification.py:1272: UndefinedMetricWarning: Precision and F-score are ill-defined and being set to 0.0 in samples with no predicted labels. Use `zero_division` parameter to control this behavior.\n",
            "  _warn_prf(average, modifier, msg_start, len(result))\n"
          ],
          "name": "stderr"
        }
      ]
    }
  ]
}