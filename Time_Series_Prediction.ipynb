{
  "nbformat": 4,
  "nbformat_minor": 0,
  "metadata": {
    "colab": {
      "name": "Time-Series Prediction.ipynb",
      "provenance": [],
      "authorship_tag": "ABX9TyPQgx8mfmLxMDTmZgckvWbe",
      "include_colab_link": true
    },
    "kernelspec": {
      "name": "python3",
      "display_name": "Python 3"
    }
  },
  "cells": [
    {
      "cell_type": "markdown",
      "metadata": {
        "id": "view-in-github",
        "colab_type": "text"
      },
      "source": [
        "<a href=\"https://colab.research.google.com/github/alenzhasulan/dl-nlp/blob/master/Time_Series_Prediction.ipynb\" target=\"_parent\"><img src=\"https://colab.research.google.com/assets/colab-badge.svg\" alt=\"Open In Colab\"/></a>"
      ]
    },
    {
      "cell_type": "code",
      "metadata": {
        "id": "idTodZ6TOHw4",
        "colab_type": "code",
        "colab": {}
      },
      "source": [
        "import torch\n",
        "from torch import nn\n",
        "import numpy as np\n",
        "import matplotlib.pyplot as plt\n",
        "%matplotlib inline"
      ],
      "execution_count": 1,
      "outputs": []
    },
    {
      "cell_type": "code",
      "metadata": {
        "id": "Pqnd-fZ7OQZm",
        "colab_type": "code",
        "colab": {
          "base_uri": "https://localhost:8080/",
          "height": 320
        },
        "outputId": "2bbb6cbf-2c1e-4b05-f278-cfc6ebf6a131"
      },
      "source": [
        "plt.figure(figsize=(8,5))\n",
        "\n",
        "seq_length=20\n",
        "\n",
        "time_steps=np.linspace(0,np.pi,seq_length+1)\n",
        "data=np.sin(time_steps)\n",
        "data.resize((seq_length+1,1))\n",
        "\n",
        "\n",
        "x=data[:-1]\n",
        "y=data[1:]\n",
        "\n",
        "plt.plot(time_steps[1:],x,'r.',label='input, x')\n",
        "plt.plot(time_steps[1:],y,'b.',label='target ,y')\n",
        "\n",
        "\n",
        "\n",
        "plt.legend(loc='best')\n",
        "plt.show()\n",
        "\n"
      ],
      "execution_count": 6,
      "outputs": [
        {
          "output_type": "display_data",
          "data": {
            "image/png": "[encoded data removed]",
            "text/plain": [
              "<Figure size 576x360 with 1 Axes>"
            ]
          },
          "metadata": {
            "tags": [],
            "needs_background": "light"
          }
        }
      ]
    },
    {
      "cell_type": "code",
      "metadata": {
        "id": "I_-eEzm0RQhf",
        "colab_type": "code",
        "colab": {}
      },
      "source": [
        "class RNN(nn.Module):\n",
        "  def __init__(self,input_size,output_size,hidden_dim,n_layers):\n",
        "    super(RNN,self).__init__()\n",
        "\n",
        "    self.hidden_dim=hidden_dim\n",
        "\n",
        "    self.rnn=nn.RNN(input_size,hidden_dim,n_layers,batch_first=True)\n",
        "    self.fc=nn.Linear(hidden_dim,output_size)\n",
        "\n",
        "  def forward(self,x,hidden):\n",
        "    batch_size=x.size(0)\n",
        "\n",
        "    r_out,hidden=self.rnn(x,hidden)\n",
        "    r_out=r_out.view(-1,self.hidden_dim)\n",
        "\n",
        "    output=self.fc(r_out)\n",
        "\n",
        "    return output, hidden\n"
      ],
      "execution_count": 8,
      "outputs": []
    },
    {
      "cell_type": "code",
      "metadata": {
        "id": "q2r8-u0_z-np",
        "colab_type": "code",
        "colab": {
          "base_uri": "https://localhost:8080/",
          "height": 68
        },
        "outputId": "9ed0ed98-7afc-4359-9e76-467cdd0fc667"
      },
      "source": [
        "test_rnn = RNN(input_size=1, output_size=1, hidden_dim=10, n_layers=2)\n",
        "\n",
        "# generate evenly spaced, test data pts\n",
        "time_steps = np.linspace(0, np.pi, seq_length)\n",
        "data = np.sin(time_steps)\n",
        "data.resize((seq_length, 1))\n",
        "\n",
        "test_input = torch.Tensor(data).unsqueeze(0) # give it a batch_size of 1 as first dimension\n",
        "print('Input size: ', test_input.size())\n",
        "\n",
        "# test out rnn sizes\n",
        "test_out, test_h = test_rnn(test_input, None)\n",
        "print('Output size: ', test_out.size())\n",
        "print('Hidden state size: ', test_h.size())"
      ],
      "execution_count": 9,
      "outputs": [
        {
          "output_type": "stream",
          "text": [
            "Input size:  torch.Size([1, 20, 1])\n",
            "Output size:  torch.Size([20, 1])\n",
            "Hidden state size:  torch.Size([2, 1, 10])\n"
          ],
          "name": "stdout"
        }
      ]
    },
    {
      "cell_type": "code",
      "metadata": {
        "id": "OYzwSlsJ465X",
        "colab_type": "code",
        "colab": {
          "base_uri": "https://localhost:8080/",
          "height": 85
        },
        "outputId": "5701492c-8825-4dec-ce1e-4c5866ffd77f"
      },
      "source": [
        "input_size=1 \n",
        "output_size=1\n",
        "hidden_dim=32\n",
        "n_layers=1\n",
        "\n",
        "# instantiate an RNN\n",
        "rnn = RNN(input_size, output_size, hidden_dim, n_layers)\n",
        "print(rnn)"
      ],
      "execution_count": 10,
      "outputs": [
        {
          "output_type": "stream",
          "text": [
            "RNN(\n",
            "  (rnn): RNN(1, 32, batch_first=True)\n",
            "  (fc): Linear(in_features=32, out_features=1, bias=True)\n",
            ")\n"
          ],
          "name": "stdout"
        }
      ]
    },
    {
      "cell_type": "code",
      "metadata": {
        "id": "8EZFrvIu464E",
        "colab_type": "code",
        "colab": {}
      },
      "source": [
        "criterion=nn.MSELoss()\n",
        "optimizer=torch.optim.Adam(rnn.parameters(),lr=0.01)"
      ],
      "execution_count": 11,
      "outputs": []
    },
    {
      "cell_type": "code",
      "metadata": {
        "id": "S7qh-JEl5f0D",
        "colab_type": "code",
        "colab": {}
      },
      "source": [
        "def train(rnn,n_steps,print_every):\n",
        "  hidden=None\n",
        "\n",
        "  for batch_i,step in enumerate(range(n_steps)):\n",
        "    time_steps=np.linspace(step*np.pi,(step+1)*np.pi,seq_length+1)\n",
        "    data=np.sin(time_steps)\n",
        "    data.resize((seq_length+1,1))\n",
        "\n",
        "    x=data[:-1]\n",
        "    y=data[1:]\n",
        "\n",
        "    x_tensor=torch.Tensor(x).unsqueeze(0)\n",
        "    y_tensor=torch.Tensor(y)\n",
        "\n",
        "    prediction,hidden=rnn(x_tensor,hidden)\n",
        "\n",
        "    hidden=hidden.data\n",
        "\n",
        "    loss=criterion(prediction,y_tensor)\n",
        "\n",
        "    optimizer.zero_grad()\n",
        "\n",
        "    loss.backward()\n",
        "    optimizer.step()\n",
        "\n",
        "    if batch_i%print_every == 0:        \n",
        "            print('Loss: ', loss.item())\n",
        "            plt.plot(time_steps[1:], x, 'r.') # input\n",
        "            plt.plot(time_steps[1:], prediction.data.numpy().flatten(), 'b.') # predictions\n",
        "            plt.show()\n",
        "    return rnn\n"
      ],
      "execution_count": 12,
      "outputs": []
    },
    {
      "cell_type": "code",
      "metadata": {
        "id": "5FOyhhZ97WiM",
        "colab_type": "code",
        "colab": {
          "base_uri": "https://localhost:8080/",
          "height": 282
        },
        "outputId": "70cd7b39-1b45-46dc-9ab9-d53a1b27a566"
      },
      "source": [
        "n_steps=75\n",
        "print_every=15\n",
        "\n",
        "trained_rnn=train(rnn,n_steps,print_every)"
      ],
      "execution_count": 16,
      "outputs": [
        {
          "output_type": "stream",
          "text": [
            "Loss:  0.0838899165391922\n"
          ],
          "name": "stdout"
        },
        {
          "output_type": "display_data",
          "data": {
            "image/png": "[encoded data removed]",
            "text/plain": [
              "<Figure size 432x288 with 1 Axes>"
            ]
          },
          "metadata": {
            "tags": [],
            "needs_background": "light"
          }
        }
      ]
    },
    {
      "cell_type": "markdown",
      "metadata": {
        "id": "5PbE9kATTTzo",
        "colab_type": "text"
      },
      "source": [
        ""
      ]
    }
  ]
}