{
  "nbformat": 4,
  "nbformat_minor": 0,
  "metadata": {
    "colab": {
      "name": "Классификация отзывов TF-IDF & LogReg.ipynb",
      "provenance": [],
      "collapsed_sections": [],
      "authorship_tag": "ABX9TyO65tpvgvMnmTJdPzoV/8i7",
      "include_colab_link": true
    },
    "kernelspec": {
      "name": "python3",
      "display_name": "Python 3"
    }
  },
  "cells": [
    {
      "cell_type": "markdown",
      "metadata": {
        "id": "view-in-github",
        "colab_type": "text"
      },
      "source": [
        "<a href=\"https://colab.research.google.com/github/alenzhasulan/dl-nlp/blob/master/%D0%9A%D0%BB%D0%B0%D1%81%D1%81%D0%B8%D1%84%D0%B8%D0%BA%D0%B0%D1%86%D0%B8%D1%8F_%D0%BE%D1%82%D0%B7%D1%8B%D0%B2%D0%BE%D0%B2_TF_IDF_%26_LogReg.ipynb\" target=\"_parent\"><img src=\"https://colab.research.google.com/assets/colab-badge.svg\" alt=\"Open In Colab\"/></a>"
      ]
    },
    {
      "cell_type": "markdown",
      "metadata": {
        "id": "m6n1DEwOM9pf",
        "colab_type": "text"
      },
      "source": [
        " # Классификация текстов - TFIDF и LogReg"
      ]
    },
    {
      "cell_type": "code",
      "metadata": {
        "id": "sN6MUy6BnM_1",
        "colab_type": "code",
        "colab": {}
      },
      "source": [
        "import random\n",
        "import pandas as pd\n",
        " \n",
        "from sklearn.model_selection import train_test_split\n",
        "from sklearn.feature_extraction.text import TfidfVectorizer\n",
        "from sklearn.pipeline import Pipeline\n",
        "from sklearn.linear_model import LogisticRegression\n",
        "from sklearn import metrics\n",
        " \n",
        " \n",
        "import matplotlib.pyplot as plt\n",
        "%matplotlib inline"
      ],
      "execution_count": null,
      "outputs": []
    },
    {
      "cell_type": "markdown",
      "metadata": {
        "id": "eedcwLlDOC4K",
        "colab_type": "text"
      },
      "source": [
        "**Загрузка и просмотр данных**"
      ]
    },
    {
      "cell_type": "code",
      "metadata": {
        "id": "SSToi3_MbOl1",
        "colab_type": "code",
        "colab": {
          "base_uri": "https://localhost:8080/",
          "height": 289
        },
        "outputId": "7b31c6b5-b322-4398-ed71-908b71977dfe"
      },
      "source": [
        "df = pd.read_excel('reviews.xlsx',header=0,converters={'review_subtitle':str,'review_text':str}, na_filter=False)\n",
        "df.head()"
      ],
      "execution_count": null,
      "outputs": [
        {
          "output_type": "execute_result",
          "data": {
            "text/html": [
              "<div>\n",
              "<style scoped>\n",
              "    .dataframe tbody tr th:only-of-type {\n",
              "        vertical-align: middle;\n",
              "    }\n",
              "\n",
              "    .dataframe tbody tr th {\n",
              "        vertical-align: top;\n",
              "    }\n",
              "\n",
              "    .dataframe thead th {\n",
              "        text-align: right;\n",
              "    }\n",
              "</style>\n",
              "<table border=\"1\" class=\"dataframe\">\n",
              "  <thead>\n",
              "    <tr style=\"text-align: right;\">\n",
              "      <th></th>\n",
              "      <th>target</th>\n",
              "      <th>movie_link</th>\n",
              "      <th>author_id</th>\n",
              "      <th>author_name</th>\n",
              "      <th>review_subtitle</th>\n",
              "      <th>review_text</th>\n",
              "    </tr>\n",
              "  </thead>\n",
              "  <tbody>\n",
              "    <tr>\n",
              "      <th>0</th>\n",
              "      <td>good</td>\n",
              "      <td>/film/178563/</td>\n",
              "      <td>/user/311869/</td>\n",
              "      <td>sochi2014</td>\n",
              "      <td></td>\n",
              "      <td>Настоящее кино. Наше кино. Прекрасная работа с...</td>\n",
              "    </tr>\n",
              "    <tr>\n",
              "      <th>1</th>\n",
              "      <td>good</td>\n",
              "      <td>/film/178563/</td>\n",
              "      <td>/user/1591566/</td>\n",
              "      <td>Альберт Попов</td>\n",
              "      <td>Предтеча многого</td>\n",
              "      <td>Мало того, что сериал «Империя под ударом» (12...</td>\n",
              "    </tr>\n",
              "    <tr>\n",
              "      <th>2</th>\n",
              "      <td>good</td>\n",
              "      <td>/film/178563/</td>\n",
              "      <td>/user/331395/</td>\n",
              "      <td>LennoxL</td>\n",
              "      <td>Срез жизни общества начала 20 го века</td>\n",
              "      <td>Период от реформ Александра Освободителя до пе...</td>\n",
              "    </tr>\n",
              "    <tr>\n",
              "      <th>3</th>\n",
              "      <td>good</td>\n",
              "      <td>/film/178563/</td>\n",
              "      <td>/user/4379604/</td>\n",
              "      <td>Ana_K</td>\n",
              "      <td>Пусть мир погибнет, но восторжествует правосудие</td>\n",
              "      <td>Атмосферный сериал о Российской Империи начала...</td>\n",
              "    </tr>\n",
              "    <tr>\n",
              "      <th>4</th>\n",
              "      <td>neutral</td>\n",
              "      <td>/film/178563/</td>\n",
              "      <td>/user/178788/</td>\n",
              "      <td>Skept</td>\n",
              "      <td>Террор  Зло с непредсказуемыми последствиями</td>\n",
              "      <td>Самая большая беда современного общества это т...</td>\n",
              "    </tr>\n",
              "  </tbody>\n",
              "</table>\n",
              "</div>"
            ],
            "text/plain": [
              "    target  ...                                        review_text\n",
              "0     good  ...  Настоящее кино. Наше кино. Прекрасная работа с...\n",
              "1     good  ...  Мало того, что сериал «Империя под ударом» (12...\n",
              "2     good  ...  Период от реформ Александра Освободителя до пе...\n",
              "3     good  ...  Атмосферный сериал о Российской Империи начала...\n",
              "4  neutral  ...  Самая большая беда современного общества это т...\n",
              "\n",
              "[5 rows x 6 columns]"
            ]
          },
          "metadata": {
            "tags": []
          },
          "execution_count": 2
        }
      ]
    },
    {
      "cell_type": "code",
      "metadata": {
        "id": "AE-YuVzesO_Y",
        "colab_type": "code",
        "colab": {
          "base_uri": "https://localhost:8080/",
          "height": 414
        },
        "outputId": "f13ae7cd-b61a-48dd-e8c2-e2b05796d996"
      },
      "source": [
        "fig = plt.figure(figsize=(8,6))\n",
        "df.groupby('target').target.count().plot.bar(ylim=0)\n",
        "plt.show()"
      ],
      "execution_count": null,
      "outputs": [
        {
          "output_type": "display_data",
          "data": {
            "image/png": "[encoded data removed]",
            "text/plain": [
              "<Figure size 576x432 with 1 Axes>"
            ]
          },
          "metadata": {
            "tags": [],
            "needs_background": "light"
          }
        }
      ]
    },
    {
      "cell_type": "markdown",
      "metadata": {
        "id": "uRH6kVIDkotu",
        "colab_type": "text"
      },
      "source": [
        "**Предобработка текстов**"
      ]
    },
    {
      "cell_type": "code",
      "metadata": {
        "id": "QChlPt5DkepT",
        "colab_type": "code",
        "colab": {
          "base_uri": "https://localhost:8080/",
          "height": 156
        },
        "outputId": "a8d89a9e-0ac6-4a32-b279-2c2bcbed18bf"
      },
      "source": [
        "df['review']=df['review_subtitle']+' '+df['review_text'] # обьеднием две столбцы в один столбец\n",
        "df['target'] = df['target'].factorize()[0] # заменяем метку в цифру {good:0, neutral:1, bad:2 }\n",
        "\n",
        "print(df['review'][0])\n",
        "print()\n",
        "print('Метка :', df['target'][0])"
      ],
      "execution_count": null,
      "outputs": [
        {
          "output_type": "stream",
          "text": [
            " Настоящее кино. Наше кино. Прекрасная работа сценариста, режиссёра, операторов. Профессиональный монтаж, музыкальное сопровождение. Превосходная игра актёров.\n",
            "\r\n",
            "Работа с таким тонким материалом, как история, требует мастерства и подлинного таланта. Это не фантазия и нахлынувшее воображение, а факты, подлинная история, с которой нельзя не считаться. Прочувственно то неспокойное время. Фильм не отвергает прошлое, как делают в некоторых картин, не старается выкрасить в чёрные цвета действующих лиц. \n",
            "\r\n",
            "Фильм всего лишь повествует о людях, об идеях, о любви. Повествует о стране, которая очень сильно изменилась, но по-прежнему существует. Хочется вериться, что никакие идеи и люди, которые борются за эти идеи, не пойдут по проторённой дороге. Уроки должны быть выучены, особенно уроки истории.\n",
            "\n",
            "Метка : 0\n"
          ],
          "name": "stdout"
        }
      ]
    },
    {
      "cell_type": "markdown",
      "metadata": {
        "id": "XyUZZk7LoCBL",
        "colab_type": "text"
      },
      "source": [
        "**Разделение данных на Train и Test**"
      ]
    },
    {
      "cell_type": "code",
      "metadata": {
        "id": "jcAvHW8houbh",
        "colab_type": "code",
        "colab": {
          "base_uri": "https://localhost:8080/",
          "height": 51
        },
        "outputId": "7a5aa5f8-7712-411d-8824-61c9705c6628"
      },
      "source": [
        "x_train, x_test, y_train, y_test = train_test_split(df['review'], df['target'], test_size=0.2, shuffle=True, random_state=1)\n",
        "print(\"Обучающая выборка:\", len(x_train))\n",
        "print(\"Тестовая выборка:\", len(x_test))"
      ],
      "execution_count": null,
      "outputs": [
        {
          "output_type": "stream",
          "text": [
            "Обучающая выборка: 64227\n",
            "Тестовая выборка: 16057\n"
          ],
          "name": "stdout"
        }
      ]
    },
    {
      "cell_type": "markdown",
      "metadata": {
        "id": "bs8l6Xzdw0y2",
        "colab_type": "text"
      },
      "source": [
        "**Обучение**"
      ]
    },
    {
      "cell_type": "code",
      "metadata": {
        "id": "HF1lpL43Wf5a",
        "colab_type": "code",
        "colab": {}
      },
      "source": [
        "# Для векторного представление текстов используем tf-idf\n",
        "# Классификации. После нескольких экпериментов самый лучший показатель: LogReg и LinearSVC\n",
        "\n",
        "MAX_DF = 0.8 \n",
        "MIN_DF = 5\n",
        "class_weight={0:1,1:6,2:8.5}\n",
        "\n",
        "sklearn_pipeline = Pipeline((('vect', TfidfVectorizer(max_df=MAX_DF,min_df=MIN_DF,norm='l2',ngram_range=(1, 2))),\n",
        "                             ('cls', LogisticRegression(solver='lbfgs',max_iter=10000,class_weight=class_weight) )))\n",
        "\n",
        "sklearn_pipeline.fit(x_train, y_train);"
      ],
      "execution_count": null,
      "outputs": []
    },
    {
      "cell_type": "markdown",
      "metadata": {
        "id": "6fskeo-Vja8C",
        "colab_type": "text"
      },
      "source": [
        "## Оценка качества"
      ]
    },
    {
      "cell_type": "markdown",
      "metadata": {
        "id": "U9J3S4udstoB",
        "colab_type": "text"
      },
      "source": [
        "**Обучающая выборка:**"
      ]
    },
    {
      "cell_type": "code",
      "metadata": {
        "id": "x7p4hajaKkhN",
        "colab_type": "code",
        "colab": {
          "base_uri": "https://localhost:8080/",
          "height": 187
        },
        "outputId": "4b68f7bb-a878-4dba-c592-a274d5aaf0cd"
      },
      "source": [
        "y_train_pred = sklearn_pipeline.predict(x_train)\n",
        "print(metrics.classification_report(y_train, y_train_pred, digits=3))"
      ],
      "execution_count": null,
      "outputs": [
        {
          "output_type": "stream",
          "text": [
            "              precision    recall  f1-score   support\n",
            "\n",
            "           0      1.000     0.967     0.983     48140\n",
            "           1      0.884     1.000     0.939     10235\n",
            "           2      0.962     1.000     0.981      5852\n",
            "\n",
            "    accuracy                          0.976     64227\n",
            "   macro avg      0.949     0.989     0.968     64227\n",
            "weighted avg      0.978     0.976     0.976     64227\n",
            "\n"
          ],
          "name": "stdout"
        }
      ]
    },
    {
      "cell_type": "markdown",
      "metadata": {
        "id": "bY3rDMD7s3CR",
        "colab_type": "text"
      },
      "source": [
        "**Тестовая выборка:**"
      ]
    },
    {
      "cell_type": "code",
      "metadata": {
        "id": "JO7tGGNks1mD",
        "colab_type": "code",
        "colab": {
          "base_uri": "https://localhost:8080/",
          "height": 187
        },
        "outputId": "c09f5028-590c-45f6-c56e-af2f9c68dfa2"
      },
      "source": [
        "y_test_pred = sklearn_pipeline.predict(x_test)\n",
        "print(metrics.classification_report(y_test, y_test_pred, digits=3))"
      ],
      "execution_count": null,
      "outputs": [
        {
          "output_type": "stream",
          "text": [
            "              precision    recall  f1-score   support\n",
            "\n",
            "           0      0.938     0.897     0.917     12049\n",
            "           1      0.555     0.667     0.606      2579\n",
            "           2      0.759     0.765     0.762      1429\n",
            "\n",
            "    accuracy                          0.848     16057\n",
            "   macro avg      0.751     0.776     0.762     16057\n",
            "weighted avg      0.861     0.848     0.853     16057\n",
            "\n"
          ],
          "name": "stdout"
        }
      ]
    },
    {
      "cell_type": "code",
      "metadata": {
        "id": "y5hpa_IrK4-S",
        "colab_type": "code",
        "colab": {}
      },
      "source": [
        ""
      ],
      "execution_count": null,
      "outputs": []
    }
  ]
}