{
  "nbformat": 4,
  "nbformat_minor": 0,
  "metadata": {
    "colab": {
      "name": "Word2Vec.ipynb",
      "provenance": [],
      "collapsed_sections": [],
      "authorship_tag": "ABX9TyPidp3vzGIUClyLwRFArb25",
      "include_colab_link": true
    },
    "kernelspec": {
      "name": "python3",
      "display_name": "Python 3"
    }
  },
  "cells": [
    {
      "cell_type": "markdown",
      "metadata": {
        "id": "view-in-github",
        "colab_type": "text"
      },
      "source": [
        "<a href=\"https://colab.research.google.com/github/alenzhasulan/dl-nlp/blob/master/Word2Vec.ipynb\" target=\"_parent\"><img src=\"https://colab.research.google.com/assets/colab-badge.svg\" alt=\"Open In Colab\"/></a>"
      ]
    },
    {
      "cell_type": "code",
      "metadata": {
        "id": "zt3LeHxpBXwe",
        "colab_type": "code",
        "colab": {}
      },
      "source": [
        "import json\n",
        "import numpy as np\n",
        "import re\n",
        "import collections\n",
        "\n",
        "import torch\n",
        "from torch import nn\n",
        "from torch.nn import functional as F\n",
        "from torch.utils.data import Dataset\n",
        "\n",
        "import matplotlib.pyplot as plt\n",
        "%matplotlib inline"
      ],
      "execution_count": 0,
      "outputs": []
    },
    {
      "cell_type": "code",
      "metadata": {
        "id": "qYwDVTWvIhzf",
        "colab_type": "code",
        "colab": {}
      },
      "source": [
        "#Загружаем данные\n",
        "JSONFile = open('file.json')\n",
        "data = json.loads(JSONFile.read())\n",
        "JSONFile.close()\n",
        "\n",
        "\n",
        "train_source=data"
      ],
      "execution_count": 0,
      "outputs": []
    },
    {
      "cell_type": "code",
      "metadata": {
        "id": "PkM49ltvFQb-",
        "colab_type": "code",
        "colab": {}
      },
      "source": [
        "TOKEN_RE=re.compile(r'[\\w\\d]+')\n",
        "\n",
        "#Возвращает для каждого строку \n",
        "def tokenize_text_regex(txt,min_token_size=3):\n",
        "  txt=txt.lower()\n",
        "  all_tokens=TOKEN_RE.findall(txt)\n",
        "  return [token for token in all_tokens if len(token)>=min_token_size]\n",
        "\n",
        "#Для токенезаций\n",
        "def tokenize_corpus(texts,tokenizer=tokenize_text_regex,**tokenizer_kwargs):\n",
        "  return [tokenizer(text,**tokenizer_kwargs) for text in texts]"
      ],
      "execution_count": 0,
      "outputs": []
    },
    {
      "cell_type": "code",
      "metadata": {
        "id": "qCet8LVSKgFU",
        "colab_type": "code",
        "outputId": "b9eccfe2-b187-433a-f954-bca09c72525a",
        "colab": {
          "base_uri": "https://localhost:8080/",
          "height": 187
        }
      },
      "source": [
        "tokinezed_corpus=tokenize_corpus(train_source)\n",
        "print(tokinezed_corpus)"
      ],
      "execution_count": 34,
      "outputs": [
        {
          "output_type": "stream",
          "text": [
            "IOPub data rate exceeded.\n",
            "The notebook server will temporarily stop sending output\n",
            "to the client in order to avoid crashing it.\n",
            "To change this limit, set the config variable\n",
            "`--NotebookApp.iopub_data_rate_limit`.\n",
            "\n",
            "Current values:\n",
            "NotebookApp.iopub_data_rate_limit=1000000.0 (bytes/sec)\n",
            "NotebookApp.rate_limit_window=3.0 (secs)\n",
            "\n"
          ],
          "name": "stderr"
        }
      ]
    },
    {
      "cell_type": "code",
      "metadata": {
        "id": "U6ZPa6RKNCNS",
        "colab_type": "code",
        "colab": {}
      },
      "source": [
        "def build_vocabulary(tokenized_texts,max_size=10000000,max_doc_freq=0.8,min_count=5,pad_word=None):\n",
        "  word_counts=collections.defaultdict(int)\n",
        "  doc_n=0\n",
        "\n",
        "  # подсчитать количество документов, в которых употребляется слова каждое слово\n",
        "  # а также общее количество документов\n",
        "  for txt in tokenized_texts:\n",
        "    doc_n+=1\n",
        "    unique_text_tokens=set(txt)\n",
        "    for token in unique_text_tokens:\n",
        "      word_counts[token]+=1\n",
        "  \n",
        "  # убрать слишком редкие и слишком частые слова\n",
        "  word_counts={word:cnt for word,cnt in word_counts.items() if cnt>=min_count and cnt/doc_n<=max_doc_freq}\n",
        "\n",
        "  # отсортировать слова по убыванию частоте \n",
        "  sorted_word_counts=sorted(word_counts.items(),reverse=True,key=lambda pair:pair[1])\n",
        "\n",
        "  #добавим несуществующие слова с индексом 0 для удобство пакетной отроботки\n",
        "  if pad_word is not None:\n",
        "    sorted_word_counts=[(pad_word,0)]+sorted_word_counts\n",
        "\n",
        "  #если у нас много слов от оставить самых частотных\n",
        "  if len(word_counts)>max_size:\n",
        "    sorted_word_counts=sorted_word_counts[:max_size]\n",
        "\n",
        "  #нумируем слова\n",
        "  word2id={word:i for i ,(word,_) in enumerate(sorted_word_counts)}\n",
        "\n",
        "  #нормируем частотных слов\n",
        "  word2freq=np.array([cnt/doc_n for _,cnt in sorted_word_counts],dtype='float32')\n",
        "\n",
        "  return word2id,word2freq\n",
        "  \n"
      ],
      "execution_count": 0,
      "outputs": []
    },
    {
      "cell_type": "code",
      "metadata": {
        "id": "1_7zOHvYJJRK",
        "colab_type": "code",
        "outputId": "654c9045-01ce-4cd3-b721-f3eae9afd3b2",
        "colab": {
          "base_uri": "https://localhost:8080/",
          "height": 54
        }
      },
      "source": [
        "MAX_DF=0.8\n",
        "MIN_COUNT=5\n",
        "\n",
        "vocabulary, word_doc_freq=build_vocabulary(tokinezed_corpus,\n",
        "                                           max_doc_freq=MAX_DF,\n",
        "                                           min_count=3,\n",
        "                                           pad_word='<PAD>'\n",
        "                                           )\n",
        "UNIQUE_WORDS_N=len(vocabulary)\n",
        "# print('Количество уникальных токенов ',UNIQUE_WORDS_N)\n",
        "print(list(vocabulary.items())[:10])"
      ],
      "execution_count": 36,
      "outputs": [
        {
          "output_type": "stream",
          "text": [
            "[('<PAD>', 0), ('қазақ', 1), ('жылы', 2), ('қазақстан', 3), ('мен', 4), ('болған', 5), ('ғасырдың', 6), ('жылдары', 7), ('xix', 8), ('және', 9)]\n"
          ],
          "name": "stdout"
        }
      ]
    },
    {
      "cell_type": "code",
      "metadata": {
        "id": "pYlQMRRDitHZ",
        "colab_type": "code",
        "colab": {}
      },
      "source": [
        "def texts_to_token_ids(tokenized_texts, word2id):\n",
        "    return [[word2id[token] for token in text if token in word2id]\n",
        "            for text in tokenized_texts]"
      ],
      "execution_count": 0,
      "outputs": []
    },
    {
      "cell_type": "code",
      "metadata": {
        "id": "3kzMOffLjN03",
        "colab_type": "code",
        "colab": {}
      },
      "source": [
        "#отображаем номера в токене\n",
        "train_token_ids=texts_to_token_ids(tokinezed_corpus,vocabulary)"
      ],
      "execution_count": 0,
      "outputs": []
    },
    {
      "cell_type": "code",
      "metadata": {
        "id": "0S3kk6oXp71B",
        "colab_type": "code",
        "outputId": "8921459e-f7dc-4153-8ca9-c6e74050653c",
        "colab": {
          "base_uri": "https://localhost:8080/",
          "height": 281
        }
      },
      "source": [
        "plt.hist([len(s) for s in train_token_ids], bins=20);\n",
        "plt.title('Гистограмма длин предложений');"
      ],
      "execution_count": 39,
      "outputs": [
        {
          "output_type": "display_data",
          "data": {
            "image/png": "[encoded data removed]",
            "text/plain": [
              "<Figure size 432x288 with 1 Axes>"
            ]
          },
          "metadata": {
            "tags": [],
            "needs_background": "light"
          }
        }
      ]
    },
    {
      "cell_type": "code",
      "metadata": {
        "id": "_vu6CQtVpXeh",
        "colab_type": "code",
        "colab": {}
      },
      "source": [
        "def ensure_length(txt, out_len, pad_value):\n",
        "    if len(txt) < out_len:\n",
        "        txt = list(txt) + [pad_value] * (out_len - len(txt))\n",
        "    else:\n",
        "        txt = txt[:out_len]\n",
        "    return txt\n",
        "    \n",
        "#Создаем тензор и выровниваем \n",
        "class PaddedSequenceDataset(Dataset):\n",
        "    def __init__(self, texts, targets, out_len=100, pad_value=0):\n",
        "        self.texts = texts\n",
        "        self.targets = targets\n",
        "        self.out_len = out_len\n",
        "        self.pad_value = pad_value\n",
        "\n",
        "    def __len__(self):\n",
        "        return len(self.texts)\n",
        "\n",
        "    def __getitem__(self, item):\n",
        "        txt = self.texts[item]\n",
        "\n",
        "        txt = ensure_length(txt, self.out_len, self.pad_value)\n",
        "        txt = torch.tensor(txt, dtype=torch.long)\n",
        "\n",
        "        target = torch.tensor(self.targets[item], dtype=torch.long)\n",
        "\n",
        "        return txt, target"
      ],
      "execution_count": 0,
      "outputs": []
    },
    {
      "cell_type": "code",
      "metadata": {
        "id": "vB-i92Q4ptwz",
        "colab_type": "code",
        "outputId": "ee9942c1-def4-4217-efd3-34bb13024f3e",
        "colab": {
          "base_uri": "https://localhost:8080/",
          "height": 51
        }
      },
      "source": [
        "MAX_SENTENCE_LEN = 18\n",
        "train_dataset = PaddedSequenceDataset(train_token_ids,\n",
        "                                      np.zeros(len(train_token_ids)),\n",
        "                                      out_len=MAX_SENTENCE_LEN)\n",
        "print(train_dataset[10])"
      ],
      "execution_count": 13,
      "outputs": [
        {
          "output_type": "stream",
          "text": [
            "(tensor([122, 194, 367,  56,   0,   0,   0,   0,   0,   0,   0,   0,   0,   0,\n",
            "          0,   0,   0,   0]), tensor(0))\n"
          ],
          "name": "stdout"
        }
      ]
    },
    {
      "cell_type": "code",
      "metadata": {
        "id": "OrZmAdlT2NZ-",
        "colab_type": "code",
        "colab": {}
      },
      "source": [
        "import gensim"
      ],
      "execution_count": 0,
      "outputs": []
    },
    {
      "cell_type": "code",
      "metadata": {
        "id": "ju-nptbz2PyG",
        "colab_type": "code",
        "colab": {}
      },
      "source": [
        "word2vec = gensim.models.Word2Vec(sentences=tokinezed_corpus, size=50,\n",
        "                                  window=5, min_count=5, workers=4,\n",
        "                                  sg=1, iter=10)"
      ],
      "execution_count": 0,
      "outputs": []
    },
    {
      "cell_type": "code",
      "metadata": {
        "id": "7XcACBrV2fES",
        "colab_type": "code",
        "colab": {
          "base_uri": "https://localhost:8080/",
          "height": 241
        },
        "outputId": "558890a4-80a8-45df-a9ec-df6330a744fb"
      },
      "source": [
        "word2vec.wv.most_similar(positive=['абай'])"
      ],
      "execution_count": 99,
      "outputs": [
        {
          "output_type": "stream",
          "text": [
            "/usr/local/lib/python3.6/dist-packages/gensim/matutils.py:737: FutureWarning: Conversion of the second argument of issubdtype from `int` to `np.signedinteger` is deprecated. In future, it will be treated as `np.int64 == np.dtype(int).type`.\n",
            "  if np.issubdtype(vec.dtype, np.int):\n"
          ],
          "name": "stderr"
        },
        {
          "output_type": "execute_result",
          "data": {
            "text/plain": [
              "[('құнанбайұлының', 0.7885921001434326),\n",
              " ('шағармашылық', 0.7828916907310486),\n",
              " ('марапат', 0.7817586660385132),\n",
              " ('романына', 0.7791364192962646),\n",
              " ('пушкиннен', 0.7297378182411194),\n",
              " ('абайдың', 0.726323664188385),\n",
              " ('әуезовтың', 0.6771575808525085),\n",
              " ('яссауидің', 0.6652423739433289),\n",
              " ('өңiрiндегi', 0.663848876953125),\n",
              " ('құнанбаевтың', 0.6547574400901794)]"
            ]
          },
          "metadata": {
            "tags": []
          },
          "execution_count": 99
        }
      ]
    }
  ]
}